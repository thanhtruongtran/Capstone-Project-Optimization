{
 "cells": [
  {
   "cell_type": "markdown",
   "metadata": {
    "id": "W77z1KtT7hdQ"
   },
   "source": [
    "# Import Library"
   ]
  },
  {
   "cell_type": "code",
   "execution_count": 1,
   "metadata": {
    "colab": {
     "base_uri": "https://localhost:8080/",
     "height": 514
    },
    "id": "c9ofRxDxbYJC",
    "outputId": "818be70c-1a0f-467f-d0cb-b5edebc38ccc"
   },
   "outputs": [],
   "source": [
    "import ortools\n",
    "from ortools.linear_solver import pywraplp\n",
    "from ortools.sat.python import cp_model"
   ]
  },
  {
   "cell_type": "code",
   "execution_count": 2,
   "metadata": {
    "id": "_BtCZlWgbUJH"
   },
   "outputs": [],
   "source": [
    "import time\n",
    "import random as rd\n",
    "from math import ceil\n",
    "from math import factorial\n",
    "def comb(x, y):\n",
    "  return factorial(x)/(factorial(y) * factorial(x - y))\n",
    "from array import *\n",
    "import numpy as np\n",
    "from itertools import combinations"
   ]
  },
  {
   "cell_type": "markdown",
   "metadata": {
    "id": "q-581UUktgXT"
   },
   "source": [
    "## Data Generator"
   ]
  },
  {
   "cell_type": "code",
   "execution_count": 3,
   "metadata": {
    "id": "4HSIO919YwXe"
   },
   "outputs": [],
   "source": [
    "def genData(N, M, attendanceRange, capacityRange, K):\n",
    "    ''' Assume N, M, *attendanceRange, and *capacityRange are positive integers.\n",
    "    Assume attendanceRange and capacityRange are 2-element lists or tuples.\n",
    "    Assume attendanceRange[0] <= attendanceRange[1] <= capacityRange[1] and capacityRange[0] <= capacityRange[1].\n",
    "    Assume K is a natural number at most N choose 2.\n",
    "    \n",
    "    Randomly generate N courses, M exam rooms, and K conflicts for exam scheduling algorithms \n",
    "    such that the number of candidates attending any exam is between attendanceRange[0] and attendanceRange[1]\n",
    "    while the capacity of any exam hall is between capacityRange[0] and capacityRange[1].\n",
    "    \n",
    "    Write data into a text file.'''\n",
    "    \n",
    "    assert False not in [arg > 0 for arg in (N, M, *attendanceRange, *capacityRange)], 'N, M, *Range, and *capacityRange should be positive integers.'\n",
    "    assert K >= 0 and K <= comb(N, 2), 'K should be a natural number at most N choose 2.'\n",
    "\n",
    "    turnouts = [str(rd.randint(attendanceRange[0], attendanceRange[1])) for i in range(N)]\n",
    "    #generate a number of large halls which can occupy all candidates of any exam and a number of halls which cannot\n",
    "    numLargeRooms = rd.randint(1, M)\n",
    "    smallRooms = [str(rd.randint(capacityRange[0], attendanceRange[1])) for i in range(M - numLargeRooms)]\n",
    "    largeRooms = [str(rd.randint(attendanceRange[1], capacityRange[1])) for i in range(numLargeRooms)]\n",
    "    capacities = smallRooms + largeRooms\n",
    "    rd.shuffle(capacities)\n",
    "    #generate all possible pairs of exams with common candidates and pick K random pairs\n",
    "    conflicts = list(combinations(range(1, N + 1), 2))\n",
    "    rd.shuffle(conflicts)\n",
    "    conflicts = [[str(i), str(j)] for i, j in conflicts[:K]]\n",
    "    for pair in conflicts:\n",
    "        rd.shuffle(pair)\n",
    "    \n",
    "    filename = f'C:/Users/Admin/Desktop/Project/data/data-N{N}-M{M}-d-{attendanceRange[0]}-{attendanceRange[1]}-c-{capacityRange[0]}-{capacityRange[1]}-K{K}.txt'\n",
    "    with open(filename, 'w') as file:\n",
    "        #line 1: N \n",
    "        file.write(str(N))\n",
    "        #line 2: d1, d2, ..., dN\n",
    "        file.write('\\n' + ' '.join(turnouts))\n",
    "        #line 3: M\n",
    "        file.write('\\n' + str(M))\n",
    "        #line 4: c1, c2, ..., cM'''\n",
    "        file.write('\\n' + ' '.join(capacities))\n",
    "        #line 5: K\n",
    "        file.write('\\n' + str(K))\n",
    "        #lines from 6 to 5 + K: pairs of exams with common candidates\n",
    "        for pair in conflicts:\n",
    "            file.write('\\n' + ' '.join(pair))\n",
    "    \n",
    "    return filename"
   ]
  },
  {
   "cell_type": "code",
   "execution_count": 4,
   "metadata": {
    "colab": {
     "base_uri": "https://localhost:8080/"
    },
    "id": "y8bsDFWQ4bI6",
    "outputId": "e6149dc5-9355-42e1-e9b4-94fc45d41d73"
   },
   "outputs": [],
   "source": [
    "# if __name__ == '__main__':\n",
    "#     n = int(input('Number of exams: N = '))\n",
    "#     m = int(input('Number of examination rooms: M = '))\n",
    "#     d = [int(i) for i in input('min and max number of candidates for any exam: ').split()]\n",
    "#     c = [int(i) for i in input('min and max capacity of any exam room: ').split()]\n",
    "#     k = int(input('Number of pairs of exams with common candidates: K = '))\n",
    "#     print('Check ' + genData(n, m, d, c, k) + '.')"
   ]
  },
  {
   "cell_type": "markdown",
   "metadata": {
    "id": "gfNdw5CPhpOT"
   },
   "source": [
    "## Data Reader"
   ]
  },
  {
   "cell_type": "code",
   "execution_count": 29,
   "metadata": {
    "colab": {
     "base_uri": "https://localhost:8080/"
    },
    "id": "F5FxbIkkb1VY",
    "outputId": "c2e1bfb4-1d8f-48cd-ecfd-202dbc2d759a"
   },
   "outputs": [
    {
     "name": "stdout",
     "output_type": "stream",
     "text": [
      "N = 16\n",
      "d = [37, 25, 45, 43, 29, 44, 38, 40, 40, 22, 42, 26, 25, 44, 42, 39]\n",
      "M = 5\n",
      "c = [48, 45, 49, 50, 46]\n",
      "K = 7\n",
      "p = [[0, 7], [3, 11], [15, 4], [12, 6], [9, 11], [11, 6], [13, 11]]\n"
     ]
    }
   ],
   "source": [
    "filename = 'C:/Users/Admin/Desktop/Project/data/data-N16-M5-d-18-45-c-16-50-K7.txt'\n",
    "def readData(filename):\n",
    "  with open(filename) as f:\n",
    "    content = [[int(j) for j in i.split()] for i in f.read().splitlines()]\n",
    "  N, d, M, c, K = content[0][0], content[1], content[2][0], content[3], content[4][0]\n",
    "  p = [[content[5 + i][0] - 1, content[5 + i][1] - 1] for i in range(K)]\n",
    "  print(f'N = {N}', f'd = {d}', f'M = {M}', f'c = {c}', f'K = {K}', f'p = {p}', sep = '\\n')\n",
    "  return N, d, M, c, K, p\n",
    "N, d, M, c, K, p = readData(filename)"
   ]
  },
  {
   "cell_type": "markdown",
   "metadata": {
    "id": "ZZd-cpGehrCM"
   },
   "source": [
    "## Solution Printer"
   ]
  },
  {
   "cell_type": "code",
   "execution_count": 30,
   "metadata": {
    "id": "gZF65BobhSSL"
   },
   "outputs": [],
   "source": [
    "def printSolution():\n",
    "  # Print the objective value\n",
    "  print(f'The minimum number periods needed to administer all exams: {obj_value}, equivalent to: {ceil(obj_value / 4)} days.')\n",
    "  print('------------------')\n",
    "  # Print the solution matrix\n",
    "  for i in range(obj_value):\n",
    "    print(f'Period {i + 1}')\n",
    "    for j in range(M):\n",
    "      if solution_matrix[i][j] != -1:\n",
    "        print(f'\\tRoom {j + 1}: Course {solution_matrix[i][j] + 1}, attendance {d[solution_matrix[i][j]]}, capacity {c[j]}.')"
   ]
  },
  {
   "cell_type": "markdown",
   "metadata": {
    "id": "bdkIql201Tik"
   },
   "source": [
    "# Algorithms"
   ]
  },
  {
   "cell_type": "markdown",
   "metadata": {
    "id": "v-CzpJX07sJ9"
   },
   "source": [
    "## Mixed Integer Programming"
   ]
  },
  {
   "cell_type": "code",
   "execution_count": 31,
   "metadata": {
    "id": "oJRJF0Wwvt-Z"
   },
   "outputs": [
    {
     "name": "stdout",
     "output_type": "stream",
     "text": [
      "The minimum number periods needed to administer all exams: 4, equivalent to: 2 days.\n",
      "------------------\n",
      "Period 1\n",
      "\tRoom 1: Course 16, attendance 39, capacity 48.\n",
      "\tRoom 2: Course 9, attendance 40, capacity 45.\n",
      "\tRoom 3: Course 8, attendance 40, capacity 49.\n",
      "\tRoom 4: Course 12, attendance 26, capacity 50.\n",
      "\tRoom 5: Course 11, attendance 42, capacity 46.\n",
      "Period 2\n",
      "\tRoom 1: Course 10, attendance 22, capacity 48.\n",
      "\tRoom 2: Course 7, attendance 38, capacity 45.\n",
      "\tRoom 3: Course 14, attendance 44, capacity 49.\n",
      "\tRoom 4: Course 6, attendance 44, capacity 50.\n",
      "\tRoom 5: Course 4, attendance 43, capacity 46.\n",
      "Period 3\n",
      "\tRoom 1: Course 1, attendance 37, capacity 48.\n",
      "\tRoom 2: Course 2, attendance 25, capacity 45.\n",
      "\tRoom 3: Course 15, attendance 42, capacity 49.\n",
      "\tRoom 4: Course 13, attendance 25, capacity 50.\n",
      "\tRoom 5: Course 3, attendance 45, capacity 46.\n",
      "Period 4\n",
      "\tRoom 2: Course 5, attendance 29, capacity 45.\n",
      "Used time: 937.5 milliseconds\n"
     ]
    }
   ],
   "source": [
    "mip_solver = pywraplp.Solver.CreateSolver('SCIP')\n",
    "INF = mip_solver.infinity()\n",
    "\n",
    "# Define variables\n",
    "x = [[[mip_solver.IntVar(0, 1, f'x[{i}][{j}][{k}]') for i in range(N)] for j in range(M)] for k in range(N)]\n",
    "y = mip_solver.IntVar(0, N - 1, 'y')\n",
    "\n",
    "# Define constraints\n",
    "\n",
    "# Constraint 1: Pairs of conflicting courses may not be put in the same time slot\n",
    "for i in range(K):\n",
    "  u, v = p[i][0], p[i][1]\n",
    "  for k in range(N):\n",
    "    constraint = mip_solver.Constraint(0, 1)\n",
    "    for j1 in range(M):\n",
    "      for j2 in range(M):\n",
    "        if j1 != j2:\n",
    "          constraint.SetCoefficient(x[u][j1][k], 1)\n",
    "          constraint.SetCoefficient(x[v][j2][k], 1)\n",
    "\n",
    "# Constraint 2: An course room may be assigned at most one course in a time slot\n",
    "for j in range(M):\n",
    "  for k in range(N):\n",
    "    constraint = mip_solver.Constraint(0, 1)\n",
    "    for i in range(N):\n",
    "      constraint.SetCoefficient(x[i][j][k], 1)\n",
    "\n",
    "# Constraint 3: The number of time slots (k.x[i,j,k] - y <= 0)\n",
    "for i in range(N):\n",
    "  for j in range(M):\n",
    "    for k in range(N):\n",
    "      constraint = mip_solver.Constraint(-INF, 0)\n",
    "      constraint.SetCoefficient(y, -1)\n",
    "      constraint.SetCoefficient(x[i][j][k], k)\n",
    "    \n",
    "# Constraint 4: A course may be conducted at most one time in an course room\n",
    "for i in range(N):\n",
    "  constraint = mip_solver.Constraint(1, 1)\n",
    "  for j in range(M):\n",
    "    for k in range(N):\n",
    "      constraint.SetCoefficient(x[i][j][k], 1)\n",
    "    \n",
    "# Constraint 5: A course n_i must be put into a room m_j with capacity c(j)\n",
    "for i in range(N):\n",
    "  for j in range(M):\n",
    "    constraint = mip_solver.Constraint(0, c[j])\n",
    "    for k in range(N):\n",
    "      constraint.SetCoefficient(x[i][j][k], d[i])\n",
    "\n",
    "\n",
    "# Define objective\n",
    "obj = mip_solver.Objective()\n",
    "obj.SetCoefficient(y, 1)\n",
    "obj.SetMinimization()\n",
    "\n",
    "mip_solver.SetTimeLimit(30000)\n",
    "\n",
    "# Compute time\n",
    "start_time = time.process_time()\n",
    "status = mip_solver.Solve()\n",
    "end_time = time.process_time()\n",
    "\n",
    "# Print solution\n",
    "if status == mip_solver.OPTIMAL or status == mip_solver.FEASIBLE:\n",
    "  obj_value = int(obj.Value() + 1)\n",
    "  solution_matrix = []\n",
    "  for i in range(obj_value):\n",
    "    solution_matrix.append([-1 for _ in range(M)])\n",
    "  for k in range(obj_value):\n",
    "    for j in range(M):\n",
    "      for i in range(N):\n",
    "        if x[i][j][k].solution_value() == 1:\n",
    "          solution_matrix[k][j] = i\n",
    "  printSolution()\n",
    "else:\n",
    "  print('No solution found.')\n",
    "print(f'Used time: {1000*(end_time - start_time)} milliseconds')"
   ]
  },
  {
   "cell_type": "markdown",
   "metadata": {
    "id": "6LM2Mwcs7xjr"
   },
   "source": [
    "## Constraint Programming"
   ]
  },
  {
   "cell_type": "code",
   "execution_count": 32,
   "metadata": {
    "id": "LywHEup9yuxb"
   },
   "outputs": [
    {
     "name": "stdout",
     "output_type": "stream",
     "text": [
      "The minimum number periods needed to administer all exams: 4, equivalent to: 2 days.\n",
      "------------------\n",
      "Period 1\n",
      "\tRoom 1: Course 16, attendance 39, capacity 48.\n",
      "\tRoom 2: Course 9, attendance 40, capacity 45.\n",
      "\tRoom 3: Course 8, attendance 40, capacity 49.\n",
      "\tRoom 4: Course 12, attendance 26, capacity 50.\n",
      "\tRoom 5: Course 11, attendance 42, capacity 46.\n",
      "Period 2\n",
      "\tRoom 1: Course 10, attendance 22, capacity 48.\n",
      "\tRoom 2: Course 7, attendance 38, capacity 45.\n",
      "\tRoom 3: Course 14, attendance 44, capacity 49.\n",
      "\tRoom 4: Course 6, attendance 44, capacity 50.\n",
      "\tRoom 5: Course 4, attendance 43, capacity 46.\n",
      "Period 3\n",
      "\tRoom 1: Course 1, attendance 37, capacity 48.\n",
      "\tRoom 2: Course 2, attendance 25, capacity 45.\n",
      "\tRoom 3: Course 15, attendance 42, capacity 49.\n",
      "\tRoom 4: Course 13, attendance 25, capacity 50.\n",
      "\tRoom 5: Course 3, attendance 45, capacity 46.\n",
      "Period 4\n",
      "\tRoom 2: Course 5, attendance 29, capacity 45.\n",
      "Used time: 265015.625 milliseconds\n"
     ]
    }
   ],
   "source": [
    "# Initiation\n",
    "model = cp_model.CpModel()\n",
    "\n",
    "# Variable x[i]: period of course ni\n",
    "x = [model.NewIntVar(1, N, f'x[{i}]') for i in range(N)]\n",
    "\n",
    "# Variable y[i][j]: whether course ni takes room  j or not\n",
    "y = [[model.NewIntVar(0, 1, f'y[{i}][{j}]') for j in range(M)] for i in range(N)]\n",
    "\n",
    "# Define constraints\n",
    "# Constraint 1: Pairs of conflicting courses may not be put in the same period\n",
    "for pair in p:\n",
    "  model.Add(x[pair[0]] != x[pair[1]])\n",
    "\n",
    "# Constraint 2: An course room  is assigned at most one course in a period\n",
    "for i in range(N):\n",
    "  model.Add(sum(y[i]) == 1)\n",
    "\n",
    "# Constraint 3: Courses with same period cannot use the same room \n",
    "for j in range(M):\n",
    "  for i1 in range(N - 1):\n",
    "    for i2 in range(i1 + 1, N):\n",
    "      b = model.NewBoolVar(f'b[{j}][{i1}][{i2}]')\n",
    "      model.Add(y[i1][j] + y[i2][j] <= 1).OnlyEnforceIf(b)\n",
    "      model.Add(x[i1] == x[i2]).OnlyEnforceIf(b)\n",
    "      model.Add(x[i1] != x[i2]).OnlyEnforceIf(b.Not())\n",
    "      \n",
    "# Constraint 4: The attendance of course n_i must be smaller than capacity of room  \n",
    "for i in range(N):\n",
    "  model.Add(sum([y[i][j] * c[j] for j in range(M)]) >= d[i])\n",
    "\n",
    "# Objective\n",
    "cp_ob = model.NewIntVar(1, N, 'ob')\n",
    "model.AddMaxEquality(cp_ob, x)\n",
    "model.Minimize(cp_ob)\n",
    "\n",
    "# Instantiate a CP solver \n",
    "cp_solver = cp_model.CpSolver()\n",
    "cp_solver.parameters.max_time_in_seconds = 40.0\n",
    "\n",
    "# Solve and compute time\n",
    "start_time = time.process_time()\n",
    "res_status = cp_solver.Solve(model)\n",
    "end_time = time.process_time()\n",
    "\n",
    "# Print solution\n",
    "if res_status == cp_model.OPTIMAL or res_status == cp_model.FEASIBLE:\n",
    "  obj_value = int(cp_solver.Value(cp_ob)) \n",
    "  solution = []\n",
    "  for i in range(obj_value):\n",
    "    solution.append([-1 for _ in range(M)])\n",
    "  for i in range(N):\n",
    "    for j in range(M):\n",
    "      if cp_solver.Value(y[i][j]) == 1:\n",
    "        solution[int(cp_solver.Value(x[i]) - 1)][j] = i\n",
    "        break\n",
    "  printSolution()\n",
    "else:\n",
    "  print('Not found solution')\n",
    "\n",
    "print(f'Used time: {1000*(end_time - start_time)} milliseconds')"
   ]
  },
  {
   "cell_type": "markdown",
   "metadata": {
    "id": "niA2ZQ227F0g"
   },
   "source": [
    "## Heuristic Algorithm\n",
    "\n"
   ]
  },
  {
   "cell_type": "markdown",
   "metadata": {
    "id": "54QZpJba6sln"
   },
   "source": [
    "### Heuristic Algorithm 1"
   ]
  },
  {
   "cell_type": "code",
   "execution_count": 33,
   "metadata": {
    "colab": {
     "base_uri": "https://localhost:8080/"
    },
    "id": "SpVecave7px6",
    "outputId": "498f0a8f-d0b6-4e3d-dcd1-39d1d6be0efa"
   },
   "outputs": [
    {
     "name": "stdout",
     "output_type": "stream",
     "text": [
      "The minimum number periods needed to administer all exams: 4, equivalent to: 2 days.\n",
      "------------------\n",
      "Period 1\n",
      "\tRoom 1: Course 3, attendance 45, capacity 48.\n",
      "\tRoom 2: Course 1, attendance 37, capacity 45.\n",
      "\tRoom 3: Course 4, attendance 43, capacity 49.\n",
      "\tRoom 4: Course 5, attendance 29, capacity 50.\n",
      "\tRoom 5: Course 2, attendance 25, capacity 46.\n",
      "Period 2\n",
      "\tRoom 1: Course 8, attendance 40, capacity 48.\n",
      "\tRoom 2: Course 6, attendance 44, capacity 45.\n",
      "\tRoom 3: Course 9, attendance 40, capacity 49.\n",
      "\tRoom 4: Course 10, attendance 22, capacity 50.\n",
      "\tRoom 5: Course 7, attendance 38, capacity 46.\n",
      "Period 3\n",
      "\tRoom 1: Course 13, attendance 25, capacity 48.\n",
      "\tRoom 2: Course 11, attendance 42, capacity 45.\n",
      "\tRoom 3: Course 15, attendance 42, capacity 49.\n",
      "\tRoom 4: Course 16, attendance 39, capacity 50.\n",
      "\tRoom 5: Course 12, attendance 26, capacity 46.\n",
      "Period 4\n",
      "\tRoom 2: Course 14, attendance 44, capacity 45.\n",
      "------------------\n",
      "Used time: 0.0 milliseconds\n"
     ]
    }
   ],
   "source": [
    "# List of (capacity, room) are sorted by capacity in ascending order\n",
    "sorted_c = sorted([(c[i], i) for i in range(M)])\n",
    "\n",
    "# Conflicts: List of courses that cannot be administered in the same period as course i\n",
    "conflicts = {}\n",
    "for pair in p:\n",
    "    conflicts.setdefault(pair[0], []).append(pair[1])\n",
    "    conflicts.setdefault(pair[1], []).append(pair[0])\n",
    "\n",
    "def greedy_alpha():\n",
    "  results = [[-1] * M] # results[i, k] = course exam administered in period i and room k\n",
    "  for course in range(N): # Sequentially assign a period and a room to each course\n",
    "    stop = False\n",
    "    for period in range(len(results) + 1): # Consider existing periods first \n",
    "      for room in range(M): #consider smaller rooms first to save bigger ones for other courses\n",
    "        capacity = sorted_c[room][0]\n",
    "        roomIndex = sorted_c[room][1]\n",
    "        if capacity >= d[course] and results[period][roomIndex] == -1:\n",
    "          noConflict = True\n",
    "          for othercourse in results[period]:\n",
    "            if course in conflicts and othercourse in conflicts[course]:\n",
    "              noConflict = False\n",
    "              break \n",
    "          if noConflict:\n",
    "            results[period][roomIndex] = course\n",
    "            stop = True\n",
    "            break\n",
    "      if stop:\n",
    "        break\n",
    "      if period == len(results) - 1:\n",
    "        # if this course cannot be held in any existing period, set up a new period\n",
    "        results.append([-1] * M)\n",
    "  return len(results), results\n",
    "\n",
    "start_time = time.process_time()\n",
    "obj_value, solution_matrix = greedy_alpha()\n",
    "end_time = time.process_time()\n",
    "\n",
    "# Result\n",
    "printSolution()\n",
    "print('------------------')\n",
    "print(f'Used time: {1000*(end_time - start_time)} milliseconds')"
   ]
  },
  {
   "cell_type": "markdown",
   "metadata": {
    "id": "dT9zvl3Y6zj8"
   },
   "source": [
    "### Heuristic Algorithm 2"
   ]
  },
  {
   "cell_type": "code",
   "execution_count": 34,
   "metadata": {
    "colab": {
     "base_uri": "https://localhost:8080/"
    },
    "id": "z0tiPndr6yeo",
    "outputId": "8ff5b8d8-a6af-4b47-8b23-ea72dc9dc216"
   },
   "outputs": [
    {
     "name": "stdout",
     "output_type": "stream",
     "text": [
      "The minimum number periods needed to administer all exams: 4, equivalent to: 2 days.\n",
      "------------------\n",
      "Period 1\n",
      "\tRoom 1: Course 3, attendance 45, capacity 48.\n",
      "\tRoom 2: Course 1, attendance 37, capacity 45.\n",
      "\tRoom 3: Course 4, attendance 43, capacity 49.\n",
      "\tRoom 4: Course 5, attendance 29, capacity 50.\n",
      "\tRoom 5: Course 2, attendance 25, capacity 46.\n",
      "Period 2\n",
      "\tRoom 1: Course 8, attendance 40, capacity 48.\n",
      "\tRoom 2: Course 6, attendance 44, capacity 45.\n",
      "\tRoom 3: Course 9, attendance 40, capacity 49.\n",
      "\tRoom 4: Course 10, attendance 22, capacity 50.\n",
      "\tRoom 5: Course 7, attendance 38, capacity 46.\n",
      "Period 3\n",
      "\tRoom 1: Course 13, attendance 25, capacity 48.\n",
      "\tRoom 2: Course 11, attendance 42, capacity 45.\n",
      "\tRoom 3: Course 15, attendance 42, capacity 49.\n",
      "\tRoom 4: Course 16, attendance 39, capacity 50.\n",
      "\tRoom 5: Course 12, attendance 26, capacity 46.\n",
      "Period 4\n",
      "\tRoom 2: Course 14, attendance 44, capacity 45.\n",
      "------------------\n",
      "Used time: 0.0 milliseconds\n"
     ]
    }
   ],
   "source": [
    "# List of (capacity, room) are sorted by capacity in ascending order \n",
    "sorted_c = sorted([(c[i], i) for i in range(M)])\n",
    "\n",
    "# Conflicts\n",
    "conflicts = {} # conflicts[i] = list of courses that cannot be administered in the same period as course i+1\n",
    "for pair in p:\n",
    "    conflicts.setdefault(pair[0], []).append(pair[1])\n",
    "    conflicts.setdefault(pair[1], []).append(pair[0])\n",
    "\n",
    "def greedy_2():\n",
    "  result = [[-1] * M] # initiate with first period \n",
    "                      # Result[i, k] = course exam administered in period i+1 and room k+1\n",
    "  for exam in range(N): #sequentially assign a period and a room to each course\n",
    "    nextCourse = False\n",
    "    for period in range(len(result) + 1): #consider existing periods first\n",
    "      if period == len(result):\n",
    "        #if this exam cannot be held in any existing period, create a new period\n",
    "        result.append([-1] * M) # new period with M rooms\n",
    "      not_ThisPeriod = False\n",
    "      if exam in conflicts:\n",
    "        for otherCourse in result[period]:\n",
    "          if otherCourse in conflicts[exam]:\n",
    "            not_ThisPeriod = True\n",
    "            break\n",
    "        if not_ThisPeriod == True:\n",
    "          continue \n",
    "      for room  in range(M): #consider smaller rooms first to save bigger ones for other courses\n",
    "        capacity = sorted_c[room][0]\n",
    "        roomIndex = sorted_c[room][1]\n",
    "        if result[period][roomIndex] == -1 and capacity >= d[exam]:\n",
    "          result[period][roomIndex] = exam\n",
    "          nextCourse = True\n",
    "          break\n",
    "      if nextCourse == True:\n",
    "        break\n",
    "  return len(result), result\n",
    "\n",
    "start_time = time.process_time()\n",
    "obj_value, solution_matrix = greedy_2()\n",
    "end_time = time.process_time()\n",
    "\n",
    "# Result\n",
    "printSolution()\n",
    "print('------------------')\n",
    "\n",
    "print(f'Used time: {1000*(end_time - start_time)} milliseconds')"
   ]
  },
  {
   "cell_type": "markdown",
   "metadata": {
    "id": "hl6-F0eEe44D"
   },
   "source": [
    "### Heuristic Algorithm 3"
   ]
  },
  {
   "cell_type": "code",
   "execution_count": 35,
   "metadata": {
    "colab": {
     "base_uri": "https://localhost:8080/"
    },
    "id": "BR1GKS2v3tHb",
    "outputId": "da38adf6-e905-4bc0-ceb6-137467b6b394"
   },
   "outputs": [
    {
     "name": "stdout",
     "output_type": "stream",
     "text": [
      "\n",
      "Period\tRoom\tExam\n",
      "\n",
      "Used time is 0.0 milliseconds\n",
      "\n",
      "The number of periods to administer all exams is 4.\n",
      "Day 1:\n",
      "\tPeriod 1:\n",
      "\t\tRoom 1 (capacity = 48): Exam 3 (expected attendance = 45, exams with common candidates = [])\n",
      "\t\tRoom 2 (capacity = 45): Exam 14 (expected attendance = 44, exams with common candidates = [12])\n",
      "\t\tRoom 3 (capacity = 49): Exam 6 (expected attendance = 44, exams with common candidates = [])\n",
      "\t\tRoom 4 (capacity = 50): Exam 4 (expected attendance = 43, exams with common candidates = [12])\n",
      "\t\tRoom 5 (capacity = 46): Exam 15 (expected attendance = 42, exams with common candidates = [])\n",
      "\tPeriod 2:\n",
      "\t\tRoom 1 (capacity = 48): Exam 11 (expected attendance = 42, exams with common candidates = [])\n",
      "\t\tRoom 2 (capacity = 45): Exam 9 (expected attendance = 40, exams with common candidates = [])\n",
      "\t\tRoom 3 (capacity = 49): Exam 8 (expected attendance = 40, exams with common candidates = [1])\n",
      "\t\tRoom 4 (capacity = 50): Exam 16 (expected attendance = 39, exams with common candidates = [5])\n",
      "\t\tRoom 5 (capacity = 46): Exam 7 (expected attendance = 38, exams with common candidates = [13, 12])\n",
      "Day 2:\n",
      "\tPeriod 3:\n",
      "\t\tRoom 1 (capacity = 48): Exam 1 (expected attendance = 37, exams with common candidates = [8])\n",
      "\t\tRoom 2 (capacity = 45): Exam 5 (expected attendance = 29, exams with common candidates = [16])\n",
      "\t\tRoom 3 (capacity = 49): Exam 12 (expected attendance = 26, exams with common candidates = [4, 10, 7, 14])\n",
      "\t\tRoom 4 (capacity = 50): Exam 13 (expected attendance = 25, exams with common candidates = [7])\n",
      "\t\tRoom 5 (capacity = 46): Exam 2 (expected attendance = 25, exams with common candidates = [])\n",
      "\tPeriod 4:\n",
      "\t\tRoom 1 (capacity = 48): Exam 10 (expected attendance = 22, exams with common candidates = [12])\n"
     ]
    }
   ],
   "source": [
    "conflicts = {} #conflicts[i] = list of exams that cannot be administered in the same period as exam i+1\n",
    "for pair in p:\n",
    "    conflicts.setdefault(pair[0], []).append(pair[1])\n",
    "    conflicts.setdefault(pair[1], []).append(pair[0])\n",
    "\n",
    "print('\\nPeriod', 'Room', 'Exam', sep='\\t')\n",
    "\n",
    "sortedExams = sorted([(d[i], i) for i in range(N)], reverse=True) #sort exams in ascending order of capacity\n",
    "\n",
    "schedule = [] #schedule[i, k] = exam administered in period i+1 and hall k+1\n",
    "period = 0\n",
    "startTime = time.process_time()\n",
    "while sortedExams: #sequentially fill each period with as many exams as possible until all exams have been scheduled\n",
    "    schedule.append([None] * M)\n",
    "    for room in range(M):\n",
    "        for exam in sortedExams: #consider more popular exams first\n",
    "            if exam[0] <= c[room]: #if a hall has adequate capacity\n",
    "                #check if any exam already scheduled in this period has common candidates with the one being considered\n",
    "                noConflict = True\n",
    "                if exam[1] in conflicts:\n",
    "                    for scheduledExam in schedule[period]:\n",
    "                        if scheduledExam in conflicts[exam[1]]:\n",
    "                            noConflict = False\n",
    "                            break\n",
    "                if noConflict: #schedule exam in period and hall and remove from list of exams to schedule\n",
    "                    schedule[period][room] = exam[1]\n",
    "                    sortedExams.remove(exam)\n",
    "                    break\n",
    "    period += 1\n",
    "#PRINT RESULT\n",
    "\n",
    "print(f'\\nUsed time is {(time.process_time() - startTime) * 1000} milliseconds')\n",
    "\n",
    "print(f'\\nThe number of periods to administer all exams is {period}.')\n",
    "\n",
    "for pe in range(period): #print schedule by period\n",
    "    if pe % 2 == 0:\n",
    "        print(f'Day {pe // 4 + 1}:')\n",
    "    print(f'\\tPeriod {pe + 1}:')\n",
    "    for room in range(M):\n",
    "        exam = schedule[pe][room]\n",
    "        conflictsOfThisExam = [e + 1 for e in conflicts.get(exam, [])]\n",
    "        if exam != None:\n",
    "            print(f'\\t\\tRoom {room + 1} (capacity = {c[room]}): Exam {exam + 1} (expected attendance = {d[exam]}, exams with common candidates = {conflictsOfThisExam})')"
   ]
  },
  {
   "cell_type": "markdown",
   "metadata": {
    "id": "rcsm0VEr70FY"
   },
   "source": [
    "## Backtracking (Brute Force)"
   ]
  },
  {
   "cell_type": "code",
   "execution_count": 21,
   "metadata": {
    "id": "dOIQ7bNV8Z_F"
   },
   "outputs": [],
   "source": [
    "end = 100000000\n",
    "conflict = [[] for _ in range(N)]\n",
    "\n",
    "for k in p:\n",
    "  u, v = k[0], k[1]\n",
    "  conflict[u].append(v)\n",
    "  conflict[v].append(u)\n",
    "\n",
    "# assign period\n",
    "period = [-1] * N\n",
    "\n",
    "# room\n",
    "room = []\n",
    "for _ in range(N):\n",
    "  room.append([-1] * M)\n",
    "\n",
    "def isPlaceable(u, slot):\n",
    "  if period[u] >= 0:\n",
    "    return False\n",
    "  for v in conflict[u]:\n",
    "    if period[v] == slot:\n",
    "      return False\n",
    "  return True\n",
    "\n",
    "def dfs(u, slot):\n",
    "  global end\n",
    "  if u == N:\n",
    "    end = min(end, slot)\n",
    "    return\n",
    "  if slot > end:\n",
    "    return\n",
    "  for j in range(M):\n",
    "    if room[slot][j] == -1:\n",
    "      for i in range(N):\n",
    "        if isPlaceable(i, slot) and d[i] <= c[j]:\n",
    "          period[i], room[slot][j] = slot, i\n",
    "          dfs(u + 1, slot)\n",
    "          period[i], room[slot][j] = -1, -1\n",
    "  dfs(u, slot + 1)\n",
    "  return\n",
    "\n",
    "# Solve\n",
    "start_time = time.process_time()\n",
    "dfs(0, 0)\n",
    "end_time = time.process_time()\n",
    "\n",
    "# Solution\n",
    "if end != 100000000:\n",
    "  print(f'Objective value: {end + 1}')\n",
    "else:\n",
    "  print('No solution.')\n",
    "print('------------------')\n",
    "print(f'Used time: {1000*(end_time - start_time)} milliseconds')"
   ]
  },
  {
   "cell_type": "code",
   "execution_count": null,
   "metadata": {},
   "outputs": [],
   "source": []
  }
 ],
 "metadata": {
  "colab": {
   "name": "Optimization.ipynb",
   "provenance": [],
   "toc_visible": true
  },
  "kernelspec": {
   "display_name": "Python 3 (ipykernel)",
   "language": "python",
   "name": "python3"
  },
  "language_info": {
   "codemirror_mode": {
    "name": "ipython",
    "version": 3
   },
   "file_extension": ".py",
   "mimetype": "text/x-python",
   "name": "python",
   "nbconvert_exporter": "python",
   "pygments_lexer": "ipython3",
   "version": "3.9.12"
  }
 },
 "nbformat": 4,
 "nbformat_minor": 1
}
